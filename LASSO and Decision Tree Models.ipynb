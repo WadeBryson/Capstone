{
 "cells": [
  {
   "cell_type": "markdown",
   "metadata": {},
   "source": [
    "# Advanced Machine Learning Models\n",
    "Model 3 - Decision Tree Model with Full Features  \n",
    "Model 4 - Decision Tree Model with EDA Features  \n",
    "Model 5 - LASSO Model with Full Features  \n",
    "Model 6 - LASSO Model with EDA Features  "
   ]
  },
  {
   "cell_type": "code",
   "execution_count": 1,
   "metadata": {},
   "outputs": [],
   "source": [
    "import pandas as pd\n",
    "from sklearn.model_selection import train_test_split\n",
    "from sklearn.linear_model import LinearRegression\n",
    "from sklearn.tree import DecisionTreeRegressor\n",
    "from sklearn.metrics import confusion_matrix\n",
    "from sklearn.metrics import accuracy_score, f1_score\n",
    "from sklearn.metrics import precision_score, recall_score\n",
    "from sklearn.metrics import r2_score\n",
    "from sklearn.metrics import mean_squared_error"
   ]
  },
  {
   "cell_type": "markdown",
   "metadata": {},
   "source": [
    "### Import Data"
   ]
  },
  {
   "cell_type": "code",
   "execution_count": 2,
   "metadata": {},
   "outputs": [
    {
     "data": {
      "text/html": [
       "<div>\n",
       "<style scoped>\n",
       "    .dataframe tbody tr th:only-of-type {\n",
       "        vertical-align: middle;\n",
       "    }\n",
       "\n",
       "    .dataframe tbody tr th {\n",
       "        vertical-align: top;\n",
       "    }\n",
       "\n",
       "    .dataframe thead th {\n",
       "        text-align: right;\n",
       "    }\n",
       "</style>\n",
       "<table border=\"1\" class=\"dataframe\">\n",
       "  <thead>\n",
       "    <tr style=\"text-align: right;\">\n",
       "      <th></th>\n",
       "      <th>player_age</th>\n",
       "      <th>last_year_Yahoo</th>\n",
       "      <th>IP</th>\n",
       "      <th>pa</th>\n",
       "      <th>ab</th>\n",
       "      <th>hit</th>\n",
       "      <th>single</th>\n",
       "      <th>double</th>\n",
       "      <th>triple</th>\n",
       "      <th>home_run</th>\n",
       "      <th>...</th>\n",
       "      <th>breaking_avg_break_x</th>\n",
       "      <th>breaking_avg_break</th>\n",
       "      <th>breaking_range_speed</th>\n",
       "      <th>n_offspeed_formatted</th>\n",
       "      <th>offspeed_avg_speed</th>\n",
       "      <th>offspeed_avg_spin</th>\n",
       "      <th>offspeed_avg_break_x</th>\n",
       "      <th>offspeed_avg_break</th>\n",
       "      <th>offspeed_range_speed</th>\n",
       "      <th>new_strikeout</th>\n",
       "    </tr>\n",
       "  </thead>\n",
       "  <tbody>\n",
       "    <tr>\n",
       "      <th>0</th>\n",
       "      <td>26</td>\n",
       "      <td>576.6</td>\n",
       "      <td>228.2</td>\n",
       "      <td>886</td>\n",
       "      <td>820</td>\n",
       "      <td>174</td>\n",
       "      <td>120</td>\n",
       "      <td>32</td>\n",
       "      <td>6</td>\n",
       "      <td>16</td>\n",
       "      <td>...</td>\n",
       "      <td>0.4</td>\n",
       "      <td>4.2</td>\n",
       "      <td>1.8</td>\n",
       "      <td>27.6</td>\n",
       "      <td>91.8</td>\n",
       "      <td>2056</td>\n",
       "      <td>-16.8</td>\n",
       "      <td>17.3</td>\n",
       "      <td>1.3</td>\n",
       "      <td>151</td>\n",
       "    </tr>\n",
       "    <tr>\n",
       "      <th>1</th>\n",
       "      <td>32</td>\n",
       "      <td>441.6</td>\n",
       "      <td>178.2</td>\n",
       "      <td>707</td>\n",
       "      <td>657</td>\n",
       "      <td>145</td>\n",
       "      <td>94</td>\n",
       "      <td>31</td>\n",
       "      <td>6</td>\n",
       "      <td>14</td>\n",
       "      <td>...</td>\n",
       "      <td>-2.0</td>\n",
       "      <td>8.7</td>\n",
       "      <td>1.7</td>\n",
       "      <td>31.6</td>\n",
       "      <td>79.0</td>\n",
       "      <td>1848</td>\n",
       "      <td>13.3</td>\n",
       "      <td>16.2</td>\n",
       "      <td>1.4</td>\n",
       "      <td>119</td>\n",
       "    </tr>\n",
       "    <tr>\n",
       "      <th>2</th>\n",
       "      <td>33</td>\n",
       "      <td>394.6</td>\n",
       "      <td>181.2</td>\n",
       "      <td>745</td>\n",
       "      <td>680</td>\n",
       "      <td>159</td>\n",
       "      <td>113</td>\n",
       "      <td>26</td>\n",
       "      <td>1</td>\n",
       "      <td>19</td>\n",
       "      <td>...</td>\n",
       "      <td>13.8</td>\n",
       "      <td>16.6</td>\n",
       "      <td>5.4</td>\n",
       "      <td>6.1</td>\n",
       "      <td>85.4</td>\n",
       "      <td>1824</td>\n",
       "      <td>-16.2</td>\n",
       "      <td>17.9</td>\n",
       "      <td>2.2</td>\n",
       "      <td>186</td>\n",
       "    </tr>\n",
       "    <tr>\n",
       "      <th>3</th>\n",
       "      <td>28</td>\n",
       "      <td>246.0</td>\n",
       "      <td>172.0</td>\n",
       "      <td>753</td>\n",
       "      <td>692</td>\n",
       "      <td>199</td>\n",
       "      <td>135</td>\n",
       "      <td>34</td>\n",
       "      <td>1</td>\n",
       "      <td>29</td>\n",
       "      <td>...</td>\n",
       "      <td>15.8</td>\n",
       "      <td>16.5</td>\n",
       "      <td>1.5</td>\n",
       "      <td>15.4</td>\n",
       "      <td>84.6</td>\n",
       "      <td>1522</td>\n",
       "      <td>-14.4</td>\n",
       "      <td>15.4</td>\n",
       "      <td>1.7</td>\n",
       "      <td>184</td>\n",
       "    </tr>\n",
       "    <tr>\n",
       "      <th>4</th>\n",
       "      <td>27</td>\n",
       "      <td>487.0</td>\n",
       "      <td>200.0</td>\n",
       "      <td>791</td>\n",
       "      <td>747</td>\n",
       "      <td>172</td>\n",
       "      <td>123</td>\n",
       "      <td>29</td>\n",
       "      <td>2</td>\n",
       "      <td>18</td>\n",
       "      <td>...</td>\n",
       "      <td>5.5</td>\n",
       "      <td>8.5</td>\n",
       "      <td>2.0</td>\n",
       "      <td>2.3</td>\n",
       "      <td>86.4</td>\n",
       "      <td>1557</td>\n",
       "      <td>-12.9</td>\n",
       "      <td>14.8</td>\n",
       "      <td>1.2</td>\n",
       "      <td>107</td>\n",
       "    </tr>\n",
       "  </tbody>\n",
       "</table>\n",
       "<p>5 rows × 96 columns</p>\n",
       "</div>"
      ],
      "text/plain": [
       "   player_age  last_year_Yahoo     IP   pa   ab  hit  single  double  triple  \\\n",
       "0          26            576.6  228.2  886  820  174     120      32       6   \n",
       "1          32            441.6  178.2  707  657  145      94      31       6   \n",
       "2          33            394.6  181.2  745  680  159     113      26       1   \n",
       "3          28            246.0  172.0  753  692  199     135      34       1   \n",
       "4          27            487.0  200.0  791  747  172     123      29       2   \n",
       "\n",
       "   home_run  ...  breaking_avg_break_x  breaking_avg_break  \\\n",
       "0        16  ...                   0.4                 4.2   \n",
       "1        14  ...                  -2.0                 8.7   \n",
       "2        19  ...                  13.8                16.6   \n",
       "3        29  ...                  15.8                16.5   \n",
       "4        18  ...                   5.5                 8.5   \n",
       "\n",
       "   breaking_range_speed  n_offspeed_formatted  offspeed_avg_speed  \\\n",
       "0                   1.8                  27.6                91.8   \n",
       "1                   1.7                  31.6                79.0   \n",
       "2                   5.4                   6.1                85.4   \n",
       "3                   1.5                  15.4                84.6   \n",
       "4                   2.0                   2.3                86.4   \n",
       "\n",
       "   offspeed_avg_spin  offspeed_avg_break_x  offspeed_avg_break  \\\n",
       "0               2056                 -16.8                17.3   \n",
       "1               1848                  13.3                16.2   \n",
       "2               1824                 -16.2                17.9   \n",
       "3               1522                 -14.4                15.4   \n",
       "4               1557                 -12.9                14.8   \n",
       "\n",
       "   offspeed_range_speed  new_strikeout  \n",
       "0                   1.3            151  \n",
       "1                   1.4            119  \n",
       "2                   2.2            186  \n",
       "3                   1.7            184  \n",
       "4                   1.2            107  \n",
       "\n",
       "[5 rows x 96 columns]"
      ]
     },
     "execution_count": 2,
     "metadata": {},
     "output_type": "execute_result"
    }
   ],
   "source": [
    "# Read in the CSV\n",
    "df = pd.read_csv(\"Clean_2015_Pitching_Data.csv\", sep = \",\")\n",
    "\n",
    "# Create a dataframe that eliminates all string identifiers and target features other than strikeout\n",
    "full_features = df.drop(['ID', 'last_year', 'NAME', 'new_yahoo', 'new_IP', 'new_win', \n",
    "'new_loss', 'new_hit', 'new_earned_run', 'new_walk'], axis=1)\n",
    "full_features.head()"
   ]
  },
  {
   "cell_type": "code",
   "execution_count": 3,
   "metadata": {},
   "outputs": [
    {
     "data": {
      "text/html": [
       "<div>\n",
       "<style scoped>\n",
       "    .dataframe tbody tr th:only-of-type {\n",
       "        vertical-align: middle;\n",
       "    }\n",
       "\n",
       "    .dataframe tbody tr th {\n",
       "        vertical-align: top;\n",
       "    }\n",
       "\n",
       "    .dataframe thead th {\n",
       "        text-align: right;\n",
       "    }\n",
       "</style>\n",
       "<table border=\"1\" class=\"dataframe\">\n",
       "  <thead>\n",
       "    <tr style=\"text-align: right;\">\n",
       "      <th></th>\n",
       "      <th>new_strikeout</th>\n",
       "      <th>strikeout</th>\n",
       "      <th>k_percent</th>\n",
       "      <th>p_swinging_strike</th>\n",
       "      <th>xba</th>\n",
       "      <th>z_swing_miss_percent</th>\n",
       "      <th>iz_contact_percent</th>\n",
       "      <th>in_zone_swing_miss</th>\n",
       "      <th>whiff_percent</th>\n",
       "    </tr>\n",
       "  </thead>\n",
       "  <tbody>\n",
       "    <tr>\n",
       "      <th>0</th>\n",
       "      <td>151</td>\n",
       "      <td>207</td>\n",
       "      <td>23.4</td>\n",
       "      <td>388</td>\n",
       "      <td>0.215</td>\n",
       "      <td>18.3</td>\n",
       "      <td>80.8</td>\n",
       "      <td>218</td>\n",
       "      <td>25.4</td>\n",
       "    </tr>\n",
       "    <tr>\n",
       "      <th>1</th>\n",
       "      <td>119</td>\n",
       "      <td>138</td>\n",
       "      <td>19.5</td>\n",
       "      <td>288</td>\n",
       "      <td>0.225</td>\n",
       "      <td>17.5</td>\n",
       "      <td>82.1</td>\n",
       "      <td>161</td>\n",
       "      <td>24.2</td>\n",
       "    </tr>\n",
       "    <tr>\n",
       "      <th>2</th>\n",
       "      <td>186</td>\n",
       "      <td>167</td>\n",
       "      <td>22.4</td>\n",
       "      <td>283</td>\n",
       "      <td>0.227</td>\n",
       "      <td>19.6</td>\n",
       "      <td>80.1</td>\n",
       "      <td>195</td>\n",
       "      <td>23.6</td>\n",
       "    </tr>\n",
       "    <tr>\n",
       "      <th>3</th>\n",
       "      <td>184</td>\n",
       "      <td>149</td>\n",
       "      <td>19.8</td>\n",
       "      <td>231</td>\n",
       "      <td>0.275</td>\n",
       "      <td>12.8</td>\n",
       "      <td>86.8</td>\n",
       "      <td>114</td>\n",
       "      <td>21.2</td>\n",
       "    </tr>\n",
       "    <tr>\n",
       "      <th>4</th>\n",
       "      <td>107</td>\n",
       "      <td>198</td>\n",
       "      <td>25.0</td>\n",
       "      <td>351</td>\n",
       "      <td>0.245</td>\n",
       "      <td>15.8</td>\n",
       "      <td>83.9</td>\n",
       "      <td>154</td>\n",
       "      <td>29.7</td>\n",
       "    </tr>\n",
       "  </tbody>\n",
       "</table>\n",
       "</div>"
      ],
      "text/plain": [
       "   new_strikeout  strikeout  k_percent  p_swinging_strike    xba  \\\n",
       "0            151        207       23.4                388  0.215   \n",
       "1            119        138       19.5                288  0.225   \n",
       "2            186        167       22.4                283  0.227   \n",
       "3            184        149       19.8                231  0.275   \n",
       "4            107        198       25.0                351  0.245   \n",
       "\n",
       "   z_swing_miss_percent  iz_contact_percent  in_zone_swing_miss  whiff_percent  \n",
       "0                  18.3                80.8                 218           25.4  \n",
       "1                  17.5                82.1                 161           24.2  \n",
       "2                  19.6                80.1                 195           23.6  \n",
       "3                  12.8                86.8                 114           21.2  \n",
       "4                  15.8                83.9                 154           29.7  "
      ]
     },
     "execution_count": 3,
     "metadata": {},
     "output_type": "execute_result"
    }
   ],
   "source": [
    "# Create dataframe that only has features that were selected in the EDA\n",
    "EDA_features = df[['new_strikeout', 'strikeout', 'k_percent', 'p_swinging_strike', \n",
    "'xba', 'z_swing_miss_percent', 'iz_contact_percent', 'in_zone_swing_miss', 'whiff_percent']]\n",
    "EDA_features.head()"
   ]
  },
  {
   "cell_type": "markdown",
   "metadata": {},
   "source": [
    "### Model 3 - Decision Tree Model with Full Features"
   ]
  },
  {
   "cell_type": "code",
   "execution_count": 4,
   "metadata": {},
   "outputs": [],
   "source": [
    "# Separate features (X) and target variable (y)\n",
    "X = full_features.drop(['new_strikeout'], axis =1)\n",
    "y = full_features['new_strikeout']\n",
    "\n",
    "# Split data into training and testing sets (test_size=0.2 for 20% test data)\n",
    "X_train, X_test, y_train, y_test = train_test_split(X, y, test_size=0.2, random_state=42)"
   ]
  },
  {
   "cell_type": "code",
   "execution_count": 5,
   "metadata": {},
   "outputs": [
    {
     "name": "stdout",
     "output_type": "stream",
     "text": [
      "Mean Squared Error: 2138.0212190110615\n",
      "R-squared: 0.12592914194383165\n"
     ]
    }
   ],
   "source": [
    "# Create the decision tree regression model\n",
    "model = DecisionTreeRegressor(max_depth=3)\n",
    "\n",
    "# Train the model on the training data\n",
    "model.fit(X_train, y_train)\n",
    "\n",
    "# Make predictions on testing data\n",
    "y_pred = model.predict(X_test)\n",
    "\n",
    "mse = mean_squared_error(y_test, y_pred)\n",
    "print(\"Mean Squared Error:\", mse)\n",
    "r2 = r2_score(y_test, y_pred)\n",
    "print(\"R-squared:\", r2)"
   ]
  },
  {
   "cell_type": "markdown",
   "metadata": {},
   "source": [
    "#### Model 3 - Decision Tree with Full Features Results\n",
    "| Depth | MSE   | R2    |\n",
    "| ----- | ----- | ----- |\n",
    "| 5     | 2632 | -.07?? |\n",
    "| 4     | 1946 | .20 |\n",
    "| 3     | 2138 | .13 |\n",
    "| 2     | 1591 | .35 |\n",
    "| 1     | 1783 | .27 |"
   ]
  },
  {
   "cell_type": "markdown",
   "metadata": {},
   "source": [
    "### Model 4 - Decision Tree with EDA Features"
   ]
  },
  {
   "cell_type": "code",
   "execution_count": 6,
   "metadata": {},
   "outputs": [],
   "source": [
    "# Separate features (X) and target variable (y)\n",
    "X = EDA_features.drop(['new_strikeout'], axis =1)\n",
    "y = EDA_features['new_strikeout']\n",
    "\n",
    "# Split data into training and testing sets (test_size=0.2 for 20% test data)\n",
    "X_train, X_test, y_train, y_test = train_test_split(X, y, test_size=0.2, random_state=42)"
   ]
  },
  {
   "cell_type": "code",
   "execution_count": 16,
   "metadata": {},
   "outputs": [
    {
     "name": "stdout",
     "output_type": "stream",
     "text": [
      "Mean Squared Error: 1365.2803924553702\n",
      "R-squared: 0.4418428622178452\n"
     ]
    }
   ],
   "source": [
    "# Create the decision tree regression model\n",
    "model = DecisionTreeRegressor(max_depth=3)\n",
    "\n",
    "# Train the model on the training data\n",
    "model.fit(X_train, y_train)\n",
    "\n",
    "# Make predictions on testing data\n",
    "y_pred = model.predict(X_test)\n",
    "\n",
    "mse = mean_squared_error(y_test, y_pred)\n",
    "print(\"Mean Squared Error:\", mse)\n",
    "r2 = r2_score(y_test, y_pred)\n",
    "print(\"R-squared:\", r2)"
   ]
  },
  {
   "cell_type": "markdown",
   "metadata": {},
   "source": [
    "#### Model 4 Decision Tree with EDA Features Results\n",
    "| Depth | MSE   | R2    |\n",
    "| ----- | ----- | ----- |\n",
    "| 5     | 1750 | .28 |\n",
    "| 4     | 1645 | .33 |\n",
    "| 3     | 1365 | .44 |\n",
    "| 2     | 1591 | .35 |\n",
    "| 1     | 1783 | .27 |"
   ]
  },
  {
   "cell_type": "code",
   "execution_count": 17,
   "metadata": {},
   "outputs": [
    {
     "name": "stdout",
     "output_type": "stream",
     "text": [
      "k_percent: 0.8171\n",
      "strikeout: 0.1626\n",
      "whiff_percent: 0.0203\n",
      "p_swinging_strike: 0.0000\n",
      "xba: 0.0000\n",
      "z_swing_miss_percent: 0.0000\n",
      "iz_contact_percent: 0.0000\n",
      "in_zone_swing_miss: 0.0000\n"
     ]
    }
   ],
   "source": [
    "# Access feature importances\n",
    "feature_importances = model.feature_importances_\n",
    "\n",
    "# Sort features and importances together by importance (descending order)\n",
    "sorted_features_and_importances = sorted(zip(X.columns, feature_importances), key=lambda x: x[1], reverse=True)\n",
    "\n",
    "# Print features in order of importance\n",
    "for feature, importance in sorted_features_and_importances:\n",
    "  print(f\"{feature}: {importance:.4f}\")"
   ]
  },
  {
   "cell_type": "markdown",
   "metadata": {},
   "source": [
    "### Model 5 - LASSO Model with Full Features"
   ]
  },
  {
   "cell_type": "code",
   "execution_count": 20,
   "metadata": {},
   "outputs": [
    {
     "name": "stdout",
     "output_type": "stream",
     "text": [
      "Mean Squared Error: 1254.5788622332357\n",
      "R-squared: 0.4871001218974983\n"
     ]
    },
    {
     "name": "stderr",
     "output_type": "stream",
     "text": [
      "c:\\Users\\wadej\\Documents\\Capstone\\.venv\\Lib\\site-packages\\sklearn\\linear_model\\_coordinate_descent.py:678: ConvergenceWarning: Objective did not converge. You might want to increase the number of iterations, check the scale of the features or consider increasing regularisation. Duality gap: 8.442e+03, tolerance: 6.890e+01\n",
      "  model = cd_fast.enet_coordinate_descent(\n"
     ]
    }
   ],
   "source": [
    "from sklearn.linear_model import Lasso\n",
    "\n",
    "# Separate features (X) and target variable (y)\n",
    "X = full_features.drop(['new_strikeout'], axis =1)\n",
    "y = full_features['new_strikeout']\n",
    "\n",
    "# Split data into training and testing sets (test_size=0.2 for 20% test data)\n",
    "X_train, X_test, y_train, y_test = train_test_split(X, y, test_size=0.2, random_state=42)\n",
    "\n",
    "# Create the LASSO model with alpha (regularization parameter)\n",
    "model = Lasso(alpha=11) \n",
    "\n",
    "# Train the model on the training data\n",
    "model.fit(X_train, y_train)\n",
    "\n",
    "# Make predictions on testing data\n",
    "y_pred = model.predict(X_test)\n",
    "\n",
    "# Evaluate model performance (e.g., using mean squared error)\n",
    "mse = mean_squared_error(y_test, y_pred)\n",
    "print(\"Mean Squared Error:\", mse)\n",
    "r2 = r2_score(y_test, y_pred)\n",
    "print(\"R-squared:\", r2)"
   ]
  },
  {
   "cell_type": "markdown",
   "metadata": {},
   "source": [
    "#### Model 5 - Lasso Alpha with Full Features Analysis\n",
    "| Alpha | MSE   | R2    |\n",
    "| ----- | ----- | ----- |\n",
    "| .001  | 1398 | .4281 |\n",
    "| .01   | 1401 | .4217 |\n",
    "| .1    | 1372 | .4388 |\n",
    "| 1     | 1354 | .4462 |\n",
    "| 10    | 1255 | .4865 |\n",
    "| 11    | 1254 | .4871 |\n",
    "| 100   | 1293 | .4713 |"
   ]
  },
  {
   "cell_type": "code",
   "execution_count": 21,
   "metadata": {},
   "outputs": [
    {
     "ename": "AttributeError",
     "evalue": "'Lasso' object has no attribute 'feature_importances_'",
     "output_type": "error",
     "traceback": [
      "\u001b[1;31m---------------------------------------------------------------------------\u001b[0m",
      "\u001b[1;31mAttributeError\u001b[0m                            Traceback (most recent call last)",
      "Cell \u001b[1;32mIn[21], line 12\u001b[0m\n\u001b[0;32m      1\u001b[0m \u001b[38;5;66;03m# Access coefficients\u001b[39;00m\n\u001b[0;32m      2\u001b[0m \u001b[38;5;66;03m# lasso_coefficients = model.coef_\u001b[39;00m\n\u001b[0;32m      3\u001b[0m \n\u001b[1;32m   (...)\u001b[0m\n\u001b[0;32m     10\u001b[0m \n\u001b[0;32m     11\u001b[0m \u001b[38;5;66;03m# Access feature importances\u001b[39;00m\n\u001b[1;32m---> 12\u001b[0m feature_importances \u001b[38;5;241m=\u001b[39m \u001b[43mmodel\u001b[49m\u001b[38;5;241;43m.\u001b[39;49m\u001b[43mfeature_importances_\u001b[49m\n\u001b[0;32m     14\u001b[0m \u001b[38;5;66;03m# Sort features and importances together by importance (descending order)\u001b[39;00m\n\u001b[0;32m     15\u001b[0m sorted_features_and_importances \u001b[38;5;241m=\u001b[39m \u001b[38;5;28msorted\u001b[39m(\u001b[38;5;28mzip\u001b[39m(X\u001b[38;5;241m.\u001b[39mcolumns, feature_importances), key\u001b[38;5;241m=\u001b[39m\u001b[38;5;28;01mlambda\u001b[39;00m x: x[\u001b[38;5;241m1\u001b[39m], reverse\u001b[38;5;241m=\u001b[39m\u001b[38;5;28;01mTrue\u001b[39;00m)\n",
      "\u001b[1;31mAttributeError\u001b[0m: 'Lasso' object has no attribute 'feature_importances_'"
     ]
    }
   ],
   "source": [
    "# Access coefficients\n",
    "# lasso_coefficients = model.coef_\n",
    "\n",
    "# Sort features and coefficients together by absolute coefficient value (descending order)\n",
    "# sorted_features_and_coefficients = sorted(zip(X.columns, lasso_coefficients), key=lambda x: abs(x[1]), reverse=True)\n",
    "\n",
    "# Print features and coefficients in sorted order\n",
    "# for feature_name, coefficient in sorted_features_and_coefficients:\n",
    " #  print(f\"{feature_name}: {coefficient:.4f}\")\n",
    "\n",
    "# Access feature importances\n",
    "feature_importances = model.feature_importances_\n",
    "\n",
    "# Sort features and importances together by importance (descending order)\n",
    "sorted_features_and_importances = sorted(zip(X.columns, feature_importances), key=lambda x: x[1], reverse=True)\n",
    "\n",
    "# Print features in order of importance\n",
    "for feature, importance in sorted_features_and_importances:\n",
    "  print(f\"{feature}: {importance:.4f}\")"
   ]
  },
  {
   "cell_type": "markdown",
   "metadata": {},
   "source": [
    "### Model 6 - LASSO Model with EDA Features"
   ]
  },
  {
   "cell_type": "code",
   "execution_count": 11,
   "metadata": {},
   "outputs": [
    {
     "name": "stdout",
     "output_type": "stream",
     "text": [
      "Mean Squared Error: 1328.6815572360792\n",
      "R-squared: 0.456805284021488\n"
     ]
    }
   ],
   "source": [
    "from sklearn.linear_model import Lasso\n",
    "\n",
    "# Separate features (X) and target variable (y)\n",
    "X = EDA_features.drop(['new_strikeout'], axis =1)\n",
    "y = EDA_features['new_strikeout']\n",
    "\n",
    "# Split data into training and testing sets (test_size=0.2 for 20% test data)\n",
    "X_train, X_test, y_train, y_test = train_test_split(X, y, test_size=0.2, random_state=42)\n",
    "\n",
    "# Create the LASSO model with alpha (regularization parameter)\n",
    "model = Lasso(alpha=1) \n",
    "\n",
    "# Train the model on the training data\n",
    "model.fit(X_train, y_train)\n",
    "\n",
    "# Make predictions on testing data\n",
    "y_pred = model.predict(X_test)\n",
    "\n",
    "# Evaluate model performance (e.g., using mean squared error)\n",
    "mse = mean_squared_error(y_test, y_pred)\n",
    "print(\"Mean Squared Error:\", mse)\n",
    "r2 = r2_score(y_test, y_pred)\n",
    "print(\"R-squared:\", r2)"
   ]
  },
  {
   "cell_type": "markdown",
   "metadata": {},
   "source": [
    "#### Model 6 - Lasso Alpha with EDA Features Analysis\n",
    "| Alpha | MSE   | R2    |\n",
    "| ----- | ----- | ----- |\n",
    "| .001  | 1312 | .4633 |\n",
    "| .01   | 1314 | .4625 |\n",
    "| .1    | 1315 | .4621 |\n",
    "| 1     | 1328 | .4568 |\n",
    "| 10    | 1362 | .4432 |\n",
    "| 100   | 1556 | .3635 |"
   ]
  },
  {
   "cell_type": "code",
   "execution_count": 12,
   "metadata": {},
   "outputs": [
    {
     "name": "stdout",
     "output_type": "stream",
     "text": [
      "k_percent: 3.4438\n",
      "whiff_percent: 1.5132\n",
      "iz_contact_percent: 1.4107\n",
      "strikeout: 0.3825\n",
      "in_zone_swing_miss: 0.2413\n",
      "p_swinging_strike: -0.1948\n",
      "xba: -0.0000\n",
      "z_swing_miss_percent: -0.0000\n"
     ]
    }
   ],
   "source": [
    "# Access coefficients\n",
    "lasso_coefficients = model.coef_\n",
    "\n",
    "# Sort features and coefficients together by absolute coefficient value (descending order)\n",
    "sorted_features_and_coefficients = sorted(zip(X.columns, lasso_coefficients), key=lambda x: abs(x[1]), reverse=True)\n",
    "\n",
    "# Print features and coefficients in sorted order\n",
    "for feature_name, coefficient in sorted_features_and_coefficients:\n",
    "  print(f\"{feature_name}: {coefficient:.4f}\")"
   ]
  }
 ],
 "metadata": {
  "kernelspec": {
   "display_name": ".venv",
   "language": "python",
   "name": "python3"
  },
  "language_info": {
   "codemirror_mode": {
    "name": "ipython",
    "version": 3
   },
   "file_extension": ".py",
   "mimetype": "text/x-python",
   "name": "python",
   "nbconvert_exporter": "python",
   "pygments_lexer": "ipython3",
   "version": "3.11.3"
  }
 },
 "nbformat": 4,
 "nbformat_minor": 2
}
