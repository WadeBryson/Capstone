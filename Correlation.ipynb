{
 "cells": [
  {
   "cell_type": "code",
   "execution_count": 6,
   "metadata": {},
   "outputs": [],
   "source": [
    "import pandas as pd\n",
    "# Creating initial Data Frame\n",
    "df = pd.read_csv(\"Clean_2015_Pitching_Data.csv\", sep = \",\")\n",
    "\n",
    "# Eliminating String Features to be able to run Correlation Analysis\n",
    "# Eliminating all target features except new_strikeout\n",
    "new_yahoo_df = df.drop(['NAME', 'ID', 'new_strikeout', 'new_IP', 'new_strikeout', 'new_loss', 'new_hit', 'new_earned_run', 'new_walk', 'new_win'], axis=1)"
   ]
  },
  {
   "cell_type": "code",
   "execution_count": 7,
   "metadata": {},
   "outputs": [
    {
     "name": "stdout",
     "output_type": "stream",
     "text": [
      "new_yahoo             1.000000\n",
      "k_percent             0.581107\n",
      "strikeout             0.534677\n",
      "last_year_Yahoo       0.481612\n",
      "whiff_percent         0.472841\n",
      "                        ...   \n",
      "woba                 -0.452245\n",
      "iz_contact_percent   -0.470723\n",
      "xobp                 -0.492184\n",
      "xba                  -0.496944\n",
      "xwoba                -0.505439\n",
      "Name: new_yahoo, Length: 97, dtype: float64\n"
     ]
    }
   ],
   "source": [
    "# Calculate the correlation matrix\n",
    "correlation_matrix = new_yahoo_df.corr()\n",
    "\n",
    "# Select the target variable column\n",
    "target_variable = \"new_yahoo\" \n",
    "\n",
    "# Get correlations with the target variable\n",
    "target_correlations = correlation_matrix[target_variable].sort_values(ascending=False)\n",
    "\n",
    "# Print the correlations (optional)\n",
    "print(target_correlations)"
   ]
  }
 ],
 "metadata": {
  "kernelspec": {
   "display_name": ".venv",
   "language": "python",
   "name": "python3"
  },
  "language_info": {
   "codemirror_mode": {
    "name": "ipython",
    "version": 3
   },
   "file_extension": ".py",
   "mimetype": "text/x-python",
   "name": "python",
   "nbconvert_exporter": "python",
   "pygments_lexer": "ipython3",
   "version": "3.11.3"
  }
 },
 "nbformat": 4,
 "nbformat_minor": 2
}
