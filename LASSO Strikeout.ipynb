{
 "cells": [
  {
   "cell_type": "code",
   "execution_count": 28,
   "metadata": {},
   "outputs": [],
   "source": [
    "import pandas as pd\n",
    "# Creating initial Data Frame\n",
    "df = pd.read_csv(\"Clean_2015_Pitching_Data.csv\", sep = \",\")\n",
    "\n",
    "# Eliminating String Features to be able to run Correlation Analysis\n",
    "# Eliminating all target features except new_strikeout\n",
    "new_strikeout_df = df.drop(['NAME', 'ID', 'new_yahoo', 'new_IP', 'new_win', 'new_loss', 'new_hit', 'new_earned_run', 'new_walk'], axis=1)\n",
    "\n",
    "from sklearn.tree import DecisionTreeRegressor\n",
    "from sklearn.model_selection import train_test_split\n",
    "\n",
    "# Separate features (X) and target variable (y)\n",
    "# X = new_strikeout_df(['strikeout', 'player_age', 'p_lob', 'double', 'pa', 'p_total_strike', 'p_ball', 'p_total_ball'], axis =1)\n",
    "wanted_features = ['strikeout', 'player_age', 'pa', 'p_lob'] # 'double' 'p_total_strike' 'p_ball' 'p_total_ball'\n",
    "X = new_strikeout_df[wanted_features]\n",
    "y = new_strikeout_df['new_strikeout']\n",
    "\n",
    "# Split data into training and testing sets (test_size=0.2 for 20% test data)\n",
    "X_train, X_test, y_train, y_test = train_test_split(X, y, test_size=0.2, random_state=42)"
   ]
  },
  {
   "cell_type": "code",
   "execution_count": 29,
   "metadata": {},
   "outputs": [
    {
     "name": "stdout",
     "output_type": "stream",
     "text": [
      "Mean Squared Error: 1337.0165293530406\n",
      "R-squared: 0.45339776113753993\n"
     ]
    }
   ],
   "source": [
    "from sklearn.linear_model import Lasso\n",
    "from sklearn.metrics import confusion_matrix\n",
    "from sklearn.metrics import accuracy_score, f1_score\n",
    "from sklearn.metrics import precision_score, recall_score\n",
    "from sklearn.linear_model import LinearRegression\n",
    "from sklearn.metrics import mean_squared_error, r2_score\n",
    "\n",
    "# Create the LASSO model with alpha (regularization parameter)\n",
    "model = Lasso(alpha=11)  # Adjust alpha as needed\n",
    "\n",
    "# Train the model on the training data\n",
    "model.fit(X_train, y_train)\n",
    "\n",
    "# Make predictions on testing data\n",
    "y_pred = model.predict(X_test)\n",
    "\n",
    "# Evaluate model performance (e.g., using mean squared error)\n",
    "mse = mean_squared_error(y_test, y_pred)\n",
    "print(\"Mean Squared Error:\", mse)\n",
    "r2 = r2_score(y_test, y_pred)\n",
    "print(\"R-squared:\", r2)"
   ]
  }
 ],
 "metadata": {
  "kernelspec": {
   "display_name": ".venv",
   "language": "python",
   "name": "python3"
  },
  "language_info": {
   "codemirror_mode": {
    "name": "ipython",
    "version": 3
   },
   "file_extension": ".py",
   "mimetype": "text/x-python",
   "name": "python",
   "nbconvert_exporter": "python",
   "pygments_lexer": "ipython3",
   "version": "3.11.3"
  }
 },
 "nbformat": 4,
 "nbformat_minor": 2
}
