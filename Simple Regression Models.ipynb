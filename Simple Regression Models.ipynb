{
 "cells": [
  {
   "cell_type": "markdown",
   "metadata": {},
   "source": [
    "# Simple Regression Models with Target Variable of Strikeouts\n",
    "Model 1 - Single Feature Regression Model  \n",
    "Model 2 - Multi-Feature Regression Model"
   ]
  },
  {
   "cell_type": "markdown",
   "metadata": {},
   "source": [
    "#### For these models we will use the features that were selected in the Exploratory Data Analysis because of their levels of correlation with the target variable strikeouts."
   ]
  },
  {
   "cell_type": "code",
   "execution_count": 2,
   "metadata": {},
   "outputs": [],
   "source": [
    "import pandas as pd\n",
    "from sklearn.model_selection import train_test_split\n",
    "from sklearn.linear_model import LinearRegression"
   ]
  },
  {
   "cell_type": "markdown",
   "metadata": {},
   "source": [
    "### Import Data"
   ]
  },
  {
   "cell_type": "code",
   "execution_count": 3,
   "metadata": {},
   "outputs": [
    {
     "data": {
      "text/html": [
       "<div>\n",
       "<style scoped>\n",
       "    .dataframe tbody tr th:only-of-type {\n",
       "        vertical-align: middle;\n",
       "    }\n",
       "\n",
       "    .dataframe tbody tr th {\n",
       "        vertical-align: top;\n",
       "    }\n",
       "\n",
       "    .dataframe thead th {\n",
       "        text-align: right;\n",
       "    }\n",
       "</style>\n",
       "<table border=\"1\" class=\"dataframe\">\n",
       "  <thead>\n",
       "    <tr style=\"text-align: right;\">\n",
       "      <th></th>\n",
       "      <th>new_strikeout</th>\n",
       "      <th>strikeout</th>\n",
       "      <th>k_percent</th>\n",
       "      <th>p_swinging_strike</th>\n",
       "      <th>xba</th>\n",
       "      <th>z_swing_miss_percent</th>\n",
       "      <th>iz_contact_percent</th>\n",
       "      <th>in_zone_swing_miss</th>\n",
       "      <th>whiff_percent</th>\n",
       "    </tr>\n",
       "  </thead>\n",
       "  <tbody>\n",
       "    <tr>\n",
       "      <th>0</th>\n",
       "      <td>151</td>\n",
       "      <td>207</td>\n",
       "      <td>23.4</td>\n",
       "      <td>388</td>\n",
       "      <td>0.215</td>\n",
       "      <td>18.3</td>\n",
       "      <td>80.8</td>\n",
       "      <td>218</td>\n",
       "      <td>25.4</td>\n",
       "    </tr>\n",
       "    <tr>\n",
       "      <th>1</th>\n",
       "      <td>119</td>\n",
       "      <td>138</td>\n",
       "      <td>19.5</td>\n",
       "      <td>288</td>\n",
       "      <td>0.225</td>\n",
       "      <td>17.5</td>\n",
       "      <td>82.1</td>\n",
       "      <td>161</td>\n",
       "      <td>24.2</td>\n",
       "    </tr>\n",
       "    <tr>\n",
       "      <th>2</th>\n",
       "      <td>186</td>\n",
       "      <td>167</td>\n",
       "      <td>22.4</td>\n",
       "      <td>283</td>\n",
       "      <td>0.227</td>\n",
       "      <td>19.6</td>\n",
       "      <td>80.1</td>\n",
       "      <td>195</td>\n",
       "      <td>23.6</td>\n",
       "    </tr>\n",
       "    <tr>\n",
       "      <th>3</th>\n",
       "      <td>184</td>\n",
       "      <td>149</td>\n",
       "      <td>19.8</td>\n",
       "      <td>231</td>\n",
       "      <td>0.275</td>\n",
       "      <td>12.8</td>\n",
       "      <td>86.8</td>\n",
       "      <td>114</td>\n",
       "      <td>21.2</td>\n",
       "    </tr>\n",
       "    <tr>\n",
       "      <th>4</th>\n",
       "      <td>107</td>\n",
       "      <td>198</td>\n",
       "      <td>25.0</td>\n",
       "      <td>351</td>\n",
       "      <td>0.245</td>\n",
       "      <td>15.8</td>\n",
       "      <td>83.9</td>\n",
       "      <td>154</td>\n",
       "      <td>29.7</td>\n",
       "    </tr>\n",
       "  </tbody>\n",
       "</table>\n",
       "</div>"
      ],
      "text/plain": [
       "   new_strikeout  strikeout  k_percent  p_swinging_strike    xba  \\\n",
       "0            151        207       23.4                388  0.215   \n",
       "1            119        138       19.5                288  0.225   \n",
       "2            186        167       22.4                283  0.227   \n",
       "3            184        149       19.8                231  0.275   \n",
       "4            107        198       25.0                351  0.245   \n",
       "\n",
       "   z_swing_miss_percent  iz_contact_percent  in_zone_swing_miss  whiff_percent  \n",
       "0                  18.3                80.8                 218           25.4  \n",
       "1                  17.5                82.1                 161           24.2  \n",
       "2                  19.6                80.1                 195           23.6  \n",
       "3                  12.8                86.8                 114           21.2  \n",
       "4                  15.8                83.9                 154           29.7  "
      ]
     },
     "execution_count": 3,
     "metadata": {},
     "output_type": "execute_result"
    }
   ],
   "source": [
    "# Read in the CSV\n",
    "df = pd.read_csv(\"Clean_2015_Pitching_Data.csv\", sep = \",\")\n",
    "# Only keeping features selected in EDA\n",
    "strikeout = df[['new_strikeout', 'strikeout', 'k_percent', 'p_swinging_strike', 'xba', 'z_swing_miss_percent', 'iz_contact_percent', 'in_zone_swing_miss', 'whiff_percent']]\n",
    "strikeout.head()\n",
    "\n"
   ]
  },
  {
   "cell_type": "code",
   "execution_count": 4,
   "metadata": {},
   "outputs": [
    {
     "name": "stdout",
     "output_type": "stream",
     "text": [
      "332 83\n"
     ]
    }
   ],
   "source": [
    "# Split the data into train and test sets (80/20)\n",
    "train_set, test_set = train_test_split(strikeout,\n",
    "test_size=0.2, random_state=123)\n",
    "print(len(train_set), len(test_set))"
   ]
  },
  {
   "cell_type": "markdown",
   "metadata": {},
   "source": [
    "### Model 1 - Single Feature Regression Model"
   ]
  },
  {
   "cell_type": "code",
   "execution_count": 6,
   "metadata": {},
   "outputs": [
    {
     "name": "stdout",
     "output_type": "stream",
     "text": [
      "The bias is  54.09655152723151\n",
      "The feature coefficients are  [0.66413516]\n",
      "The score for the training set is 0.3833406201066476\n",
      "The score for the test set is 0.25396812783562706\n"
     ]
    }
   ],
   "source": [
    "reg = LinearRegression()\n",
    "\n",
    "X = train_set[['strikeout']]\n",
    "y = train_set['new_strikeout']\n",
    "reg.fit(X, y)\n",
    "\n",
    "print(\"The bias is \" , reg.intercept_)\n",
    "print(\"The feature coefficients are \", reg.coef_)\n",
    "print(\"The score for the training set is\", reg.score(X,y))\n",
    "\n",
    "# Check the performance on the test set\n",
    "X_test = test_set[['strikeout']]\n",
    "y_test = test_set['new_strikeout']\n",
    "print(\"The score for the test set is\", reg.score(X_test,y_test))"
   ]
  },
  {
   "cell_type": "markdown",
   "metadata": {},
   "source": []
  },
  {
   "cell_type": "markdown",
   "metadata": {},
   "source": [
    "#### Single Feature Regression Model Performance\n",
    "| Feature   | Training   | Test    |\n",
    "| -----     | -----      | -----   |\n",
    "| k_percent | 0.42 | 0.36 |\n",
    "| strikeout | 0.38 | 0.25 |\n",
    "| whiff_percent | 0.30 | 0.32 |\n",
    "| p_swinging_strike | 0.31 | 0.25 |\n",
    "| xba | 0.30 | 0.27 |\n",
    "| z_swing_miss_percent | 0.27 | 0.29 |\n",
    "| iz_contact_percent | 0.27 | 0.29 |\n",
    "| in_zone_swing_miss | 0.30 | 0.23 |\n",
    "\n",
    "\n"
   ]
  },
  {
   "cell_type": "markdown",
   "metadata": {},
   "source": [
    "### Model 2 - Multi-Feature Regression Model"
   ]
  },
  {
   "cell_type": "code",
   "execution_count": 5,
   "metadata": {},
   "outputs": [
    {
     "name": "stdout",
     "output_type": "stream",
     "text": [
      "The bias is  27.351810928793185\n",
      "The feature coefficients are  [ 5.50801027  0.21505068 -1.71761361 10.48325417  0.04754484]\n",
      "The score for the training set is 0.4496081950641221\n",
      "The score for the test set is 0.34155856243446836\n"
     ]
    }
   ],
   "source": [
    "X = train_set[['k_percent','strikeout', 'whiff_percent', 'xba', 'p_swinging_strike']]\n",
    "y = train_set['new_strikeout']\n",
    "reg.fit(X, y)\n",
    "\n",
    "print(\"The bias is \" , reg.intercept_)\n",
    "print(\"The feature coefficients are \", reg.coef_)\n",
    "print(\"The score for the training set is\", reg.score(X,y))\n",
    "\n",
    "# Check the performance on the test set\n",
    "X_test = test_set[['k_percent','strikeout', 'whiff_percent', 'xba', 'p_swinging_strike']]\n",
    "y_test = test_set['new_strikeout']\n",
    "print(\"The score for the test set is\", reg.score(X_test,y_test))"
   ]
  },
  {
   "cell_type": "markdown",
   "metadata": {},
   "source": [
    "#### Multi-Feature Model Performance\n",
    "| # Features | Features | Training   | Test    |\n",
    "| -----     | -----      | -----   | ----- |\n",
    "| 2 | strikeout, k_percent | 0.45 | 0.35 |\n",
    "| 2 | k_percent, whiff_percent | 0.42 | 0.35 |\n",
    "| 2 | k_percent, p_swinging_strike | 0.43 | 0.36 |\n",
    "| 2 | k_percent, xba | 0.42 | 0.36 |\n",
    "| 2 | strikeout, whiff_percent | 0.41 | 0.33 |\n",
    "| 2 | whiff_percent, xba | 0.35 | 0.35 |\n",
    "| 3 | k_percent, strikeout, xba | 0.45 | 0.35 |\n",
    "| 4 | k_percent, strikeout, xba, whiff_percent | 0.45 | 0.34 |\n",
    "| 5 | k_percent, strikeout, xba, whiff_percent, p_swinging_strike | 0.45 | 0.34 |"
   ]
  }
 ],
 "metadata": {
  "kernelspec": {
   "display_name": ".venv",
   "language": "python",
   "name": "python3"
  },
  "language_info": {
   "codemirror_mode": {
    "name": "ipython",
    "version": 3
   },
   "file_extension": ".py",
   "mimetype": "text/x-python",
   "name": "python",
   "nbconvert_exporter": "python",
   "pygments_lexer": "ipython3",
   "version": "3.11.3"
  }
 },
 "nbformat": 4,
 "nbformat_minor": 2
}
