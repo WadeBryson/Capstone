{
 "cells": [
  {
   "cell_type": "markdown",
   "metadata": {},
   "source": [
    "# Final Results"
   ]
  },
  {
   "cell_type": "markdown",
   "metadata": {},
   "source": [
    "| Method | Specifics   | R2   |\n",
    "| ----- | ----- | ----- |\n",
    "| LASSO with Full Features | Alpha = 11 | 0.49 |\n",
    "| LASSO with EDA Features | Alpha = 0.001 | 0.46 |\n",
    "| Decision Tree with EDA Features | Depth = 3 | 0.44 |\n",
    "| Multi-Feature Regression | Features = strikeout, k_percent | 0.45 / 0.35 |\n",
    "| Simple Linear Regression | Feature = k_percent | 0.42 / 0.36 |\n",
    "| Decision Tree with Full Features | Depth = 2 | .35 |\n",
    "| BASELINE Model | Feature = strikeout | 0.32 / 0.26 |"
   ]
  }
 ],
 "metadata": {
  "kernelspec": {
   "display_name": ".venv",
   "language": "python",
   "name": "python3"
  },
  "language_info": {
   "name": "python",
   "version": "3.11.3"
  }
 },
 "nbformat": 4,
 "nbformat_minor": 2
}
